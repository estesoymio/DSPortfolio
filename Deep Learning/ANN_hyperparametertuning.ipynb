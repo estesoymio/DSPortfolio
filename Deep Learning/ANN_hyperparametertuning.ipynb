{
  "nbformat": 4,
  "nbformat_minor": 0,
  "metadata": {
    "colab": {
      "provenance": []
    },
    "kernelspec": {
      "name": "python3",
      "display_name": "Python 3"
    },
    "language_info": {
      "name": "python"
    }
  },
  "cells": [
    {
      "cell_type": "code",
      "execution_count": null,
      "metadata": {
        "colab": {
          "base_uri": "https://localhost:8080/"
        },
        "id": "e4v_QsdMbNat",
        "outputId": "5bbc98eb-0697-4cca-e35e-78ecc189d448"
      },
      "outputs": [
        {
          "output_type": "stream",
          "name": "stdout",
          "text": [
            "Collecting keras-tuner\n",
            "  Downloading keras_tuner-1.4.7-py3-none-any.whl (129 kB)\n",
            "\u001b[?25l     \u001b[90m━━━━━━━━━━━━━━━━━━━━━━━━━━━━━━━━━━━━━━━━\u001b[0m \u001b[32m0.0/129.1 kB\u001b[0m \u001b[31m?\u001b[0m eta \u001b[36m-:--:--\u001b[0m\r\u001b[2K     \u001b[91m━━━━━━━━━━━━━━━━━━━━━━━━━━━━━━━━━━━━━━\u001b[0m\u001b[90m╺\u001b[0m\u001b[90m━\u001b[0m \u001b[32m122.9/129.1 kB\u001b[0m \u001b[31m3.4 MB/s\u001b[0m eta \u001b[36m0:00:01\u001b[0m\r\u001b[2K     \u001b[90m━━━━━━━━━━━━━━━━━━━━━━━━━━━━━━━━━━━━━━━━\u001b[0m \u001b[32m129.1/129.1 kB\u001b[0m \u001b[31m2.7 MB/s\u001b[0m eta \u001b[36m0:00:00\u001b[0m\n",
            "\u001b[?25hRequirement already satisfied: keras in /usr/local/lib/python3.10/dist-packages (from keras-tuner) (2.15.0)\n",
            "Requirement already satisfied: packaging in /usr/local/lib/python3.10/dist-packages (from keras-tuner) (24.1)\n",
            "Requirement already satisfied: requests in /usr/local/lib/python3.10/dist-packages (from keras-tuner) (2.31.0)\n",
            "Collecting kt-legacy (from keras-tuner)\n",
            "  Downloading kt_legacy-1.0.5-py3-none-any.whl (9.6 kB)\n",
            "Requirement already satisfied: charset-normalizer<4,>=2 in /usr/local/lib/python3.10/dist-packages (from requests->keras-tuner) (3.3.2)\n",
            "Requirement already satisfied: idna<4,>=2.5 in /usr/local/lib/python3.10/dist-packages (from requests->keras-tuner) (3.7)\n",
            "Requirement already satisfied: urllib3<3,>=1.21.1 in /usr/local/lib/python3.10/dist-packages (from requests->keras-tuner) (2.0.7)\n",
            "Requirement already satisfied: certifi>=2017.4.17 in /usr/local/lib/python3.10/dist-packages (from requests->keras-tuner) (2024.6.2)\n",
            "Installing collected packages: kt-legacy, keras-tuner\n",
            "Successfully installed keras-tuner-1.4.7 kt-legacy-1.0.5\n"
          ]
        }
      ],
      "source": [
        "!pip install keras-tuner"
      ]
    },
    {
      "cell_type": "code",
      "source": [
        "from tensorflow.keras.models import Sequential\n",
        "from tensorflow.keras.layers import Flatten,Dropout, Dense\n",
        "from tensorflow.keras.optimizers import Adam\n",
        "import keras_tuner\n",
        "from keras_tuner.tuners import RandomSearch\n",
        "print('library imported')"
      ],
      "metadata": {
        "colab": {
          "base_uri": "https://localhost:8080/"
        },
        "id": "oWj4qrKHbRb1",
        "outputId": "aa564972-a48f-4574-89dd-7904f176d8ad"
      },
      "execution_count": null,
      "outputs": [
        {
          "output_type": "stream",
          "name": "stdout",
          "text": [
            "library imported\n"
          ]
        }
      ]
    },
    {
      "cell_type": "code",
      "source": [
        "#load dataset\n",
        "from tensorflow.keras.datasets import mnist\n",
        "print('data loaded')\n",
        "\n",
        "(X_train,y_train),(X_test,y_test)=mnist.load_data()\n",
        "#normalize pixels from 0 to 1\n",
        "X_train=X_train/255.\n",
        "X_test=X_test/255."
      ],
      "metadata": {
        "colab": {
          "base_uri": "https://localhost:8080/"
        },
        "id": "_ztbGAHcC_Hm",
        "outputId": "4670cd4a-e816-4294-8c81-831a83a91f5b"
      },
      "execution_count": null,
      "outputs": [
        {
          "output_type": "stream",
          "name": "stdout",
          "text": [
            "data loaded\n",
            "Downloading data from https://storage.googleapis.com/tensorflow/tf-keras-datasets/mnist.npz\n",
            "11490434/11490434 [==============================] - 0s 0us/step\n"
          ]
        }
      ]
    },
    {
      "cell_type": "code",
      "source": [
        "def build_model(hp):\n",
        "  model=Sequential()\n",
        "  model.add(Flatten(input_shape=(28,28)))\n",
        "  for i in range(hp.Int('num_layers',2,20)): #search for no. of  layers between 2 to 20\n",
        "    model.add(Dense(units=hp.Int('units_'+str(i),min_value=32,max_value=512,step=32))) # add number of nuerons between 32 and 512 by a step of 32\n",
        "    #search for number of units\n",
        "    model.add(Dropout(hp.Float('rate'+str(i),min_value=0.0,max_value=0.5,step=0.1))) # add the dropout unit from 0 to 0.5\n",
        "  model.add(Dense(10,activation='softmax'))\n",
        "  model.compile(optimizer=Adam(hp.Choice('learning_rate',[1e-2,1e-3,1e-4])),loss='sparse_categorical_crossentropy',metrics=['accuracy'])\n",
        "  return model"
      ],
      "metadata": {
        "id": "5x2Latu8cK5a"
      },
      "execution_count": null,
      "outputs": []
    },
    {
      "cell_type": "markdown",
      "source": [
        "#We use sparse categorical as the outputs are not one hot encoded"
      ],
      "metadata": {
        "id": "6dMkapuEBC7S"
      }
    },
    {
      "cell_type": "code",
      "source": [
        "#tuner\n",
        "tuner=RandomSearch(build_model,\n",
        "                   objective='val_accuracy',\n",
        "                   max_trials=3,\n",
        "                   max_retries_per_trial=2,\n",
        "                   directory='my_dir',\n",
        "                   project_name='Hyper_tuner1')"
      ],
      "metadata": {
        "id": "VfTniOGWdv0R"
      },
      "execution_count": null,
      "outputs": []
    },
    {
      "cell_type": "code",
      "source": [
        "tuner.search(X_train,y_train,epochs=5,validation_data=(X_test,y_test))"
      ],
      "metadata": {
        "colab": {
          "base_uri": "https://localhost:8080/"
        },
        "id": "hyXh4HJ8BqO3",
        "outputId": "a4faf552-4853-4051-b067-fcf2c8c121c8"
      },
      "execution_count": null,
      "outputs": [
        {
          "output_type": "stream",
          "name": "stdout",
          "text": [
            "Trial 3 Complete [00h 01m 59s]\n",
            "val_accuracy: 0.8899999856948853\n",
            "\n",
            "Best val_accuracy So Far: 0.9230999946594238\n",
            "Total elapsed time: 00h 05m 47s\n"
          ]
        }
      ]
    },
    {
      "cell_type": "code",
      "source": [],
      "metadata": {
        "id": "hyMu9jTvC1Y5"
      },
      "execution_count": null,
      "outputs": []
    }
  ]
}