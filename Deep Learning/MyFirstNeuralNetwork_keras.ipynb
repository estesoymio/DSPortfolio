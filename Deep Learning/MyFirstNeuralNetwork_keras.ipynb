{
  "cells": [
    {
      "cell_type": "code",
      "execution_count": 5,
      "metadata": {
        "id": "CsFqkzQdjush"
      },
      "outputs": [],
      "source": [
        "#Import Tensor flow module\n",
        "import tensorflow as tf\n",
        "import numpy as np"
      ]
    },
    {
      "cell_type": "code",
      "execution_count": 6,
      "metadata": {
        "id": "jte2Bszxj1N9"
      },
      "outputs": [],
      "source": [
        "# #one dim tensor\n",
        "# tensor1=tf.constant([3,4,6,7,8,0.9])"
      ]
    },
    {
      "cell_type": "markdown",
      "source": [
        "To predict hand-written digit using ANN\n"
      ],
      "metadata": {
        "id": "kvD0PXRIXf4Z"
      }
    },
    {
      "cell_type": "code",
      "execution_count": 7,
      "metadata": {
        "colab": {
          "base_uri": "https://localhost:8080/"
        },
        "id": "q7a8rCt3j6fc",
        "outputId": "36bebfcb-9121-433d-85cb-7f0ec83863ee"
      },
      "outputs": [
        {
          "output_type": "stream",
          "name": "stdout",
          "text": [
            "data loaded\n"
          ]
        }
      ],
      "source": [
        "#load dataset\n",
        "from tensorflow.keras.datasets import mnist\n",
        "print('data loaded')"
      ]
    },
    {
      "cell_type": "code",
      "execution_count": 8,
      "metadata": {
        "colab": {
          "base_uri": "https://localhost:8080/"
        },
        "id": "e4DdPesOj9Sz",
        "outputId": "4df90eb2-aa75-4a28-f95a-cf0f80087a80"
      },
      "outputs": [
        {
          "output_type": "stream",
          "name": "stdout",
          "text": [
            "Downloading data from https://storage.googleapis.com/tensorflow/tf-keras-datasets/mnist.npz\n",
            "11490434/11490434 [==============================] - 0s 0us/step\n"
          ]
        }
      ],
      "source": [
        "(X_train,y_train),(X_test,y_test)=mnist.load_data()"
      ]
    },
    {
      "cell_type": "code",
      "execution_count": 9,
      "metadata": {
        "colab": {
          "base_uri": "https://localhost:8080/"
        },
        "id": "ZI741tCCkANM",
        "outputId": "cc637577-477d-48bd-82f2-7e6ca49a02cd"
      },
      "outputs": [
        {
          "output_type": "execute_result",
          "data": {
            "text/plain": [
              "(60000, 28, 28)"
            ]
          },
          "metadata": {},
          "execution_count": 9
        }
      ],
      "source": [
        "X_train.shape"
      ]
    },
    {
      "cell_type": "code",
      "execution_count": 10,
      "metadata": {
        "id": "rIkDmM95kCgH"
      },
      "outputs": [],
      "source": [
        "import matplotlib.pyplot as plt"
      ]
    },
    {
      "cell_type": "code",
      "execution_count": 11,
      "metadata": {
        "colab": {
          "base_uri": "https://localhost:8080/",
          "height": 447
        },
        "id": "cmWr9-2mkGL9",
        "outputId": "0a21540f-8a58-451c-9e1b-a78b3d9ade9d"
      },
      "outputs": [
        {
          "output_type": "execute_result",
          "data": {
            "text/plain": [
              "<matplotlib.image.AxesImage at 0x7d55ddcc0e20>"
            ]
          },
          "metadata": {},
          "execution_count": 11
        },
        {
          "output_type": "display_data",
          "data": {
            "text/plain": [
              "<Figure size 640x480 with 1 Axes>"
            ],
            "image/png": "[encoded data removed]"
          },
          "metadata": {}
        }
      ],
      "source": [
        "\n",
        "plt.imshow(X_train[0])"
      ]
    },
    {
      "cell_type": "code",
      "execution_count": 12,
      "metadata": {
        "colab": {
          "base_uri": "https://localhost:8080/",
          "height": 68
        },
        "id": "EDK01ME-kICh",
        "outputId": "256dc392-4de8-44ca-99ef-3ebeeb4023a1"
      },
      "outputs": [
        {
          "output_type": "execute_result",
          "data": {
            "text/plain": [
              "array([[  0,   0,   0,   0,   0,   0,   0,   0,   0,   0,   0,   0,   0,\n",
              "          0,   0,   0,   0,   0,   0,   0,   0,   0,   0,   0,   0,   0,\n",
              "          0,   0],\n",
              "       [  0,   0,   0,   0,   0,   0,   0,   0,   0,   0,   0,   0,   0,\n",
              "          0,   0,   0,   0,   0,   0,   0,   0,   0,   0,   0,   0,   0,\n",
              "          0,   0],\n",
              "       [  0,   0,   0,   0,   0,   0,   0,   0,   0,   0,   0,   0,   0,\n",
              "          0,   0,   0,   0,   0,   0,   0,   0,   0,   0,   0,   0,   0,\n",
              "          0,   0],\n",
              "       [  0,   0,   0,   0,   0,   0,   0,   0,   0,   0,   0,   0,   0,\n",
              "          0,   0,   0,   0,   0,   0,   0,   0,   0,   0,   0,   0,   0,\n",
              "          0,   0],\n",
              "       [  0,   0,   0,   0,   0,   0,   0,   0,   0,   0,   0,   0,   0,\n",
              "          0,   0,   0,   0,   0,   0,   0,   0,   0,   0,   0,   0,   0,\n",
              "          0,   0],\n",
              "       [  0,   0,   0,   0,   0,   0,   0,   0,   0,   0,   0,   0,   3,\n",
              "         18,  18,  18, 126, 136, 175,  26, 166, 255, 247, 127,   0,   0,\n",
              "          0,   0],\n",
              "       [  0,   0,   0,   0,   0,   0,   0,   0,  30,  36,  94, 154, 170,\n",
              "        253, 253, 253, 253, 253, 225, 172, 253, 242, 195,  64,   0,   0,\n",
              "          0,   0],\n",
              "       [  0,   0,   0,   0,   0,   0,   0,  49, 238, 253, 253, 253, 253,\n",
              "        253, 253, 253, 253, 251,  93,  82,  82,  56,  39,   0,   0,   0,\n",
              "          0,   0],\n",
              "       [  0,   0,   0,   0,   0,   0,   0,  18, 219, 253, 253, 253, 253,\n",
              "        253, 198, 182, 247, 241,   0,   0,   0,   0,   0,   0,   0,   0,\n",
              "          0,   0],\n",
              "       [  0,   0,   0,   0,   0,   0,   0,   0,  80, 156, 107, 253, 253,\n",
              "        205,  11,   0,  43, 154,   0,   0,   0,   0,   0,   0,   0,   0,\n",
              "          0,   0],\n",
              "       [  0,   0,   0,   0,   0,   0,   0,   0,   0,  14,   1, 154, 253,\n",
              "         90,   0,   0,   0,   0,   0,   0,   0,   0,   0,   0,   0,   0,\n",
              "          0,   0],\n",
              "       [  0,   0,   0,   0,   0,   0,   0,   0,   0,   0,   0, 139, 253,\n",
              "        190,   2,   0,   0,   0,   0,   0,   0,   0,   0,   0,   0,   0,\n",
              "          0,   0],\n",
              "       [  0,   0,   0,   0,   0,   0,   0,   0,   0,   0,   0,  11, 190,\n",
              "        253,  70,   0,   0,   0,   0,   0,   0,   0,   0,   0,   0,   0,\n",
              "          0,   0],\n",
              "       [  0,   0,   0,   0,   0,   0,   0,   0,   0,   0,   0,   0,  35,\n",
              "        241, 225, 160, 108,   1,   0,   0,   0,   0,   0,   0,   0,   0,\n",
              "          0,   0],\n",
              "       [  0,   0,   0,   0,   0,   0,   0,   0,   0,   0,   0,   0,   0,\n",
              "         81, 240, 253, 253, 119,  25,   0,   0,   0,   0,   0,   0,   0,\n",
              "          0,   0],\n",
              "       [  0,   0,   0,   0,   0,   0,   0,   0,   0,   0,   0,   0,   0,\n",
              "          0,  45, 186, 253, 253, 150,  27,   0,   0,   0,   0,   0,   0,\n",
              "          0,   0],\n",
              "       [  0,   0,   0,   0,   0,   0,   0,   0,   0,   0,   0,   0,   0,\n",
              "          0,   0,  16,  93, 252, 253, 187,   0,   0,   0,   0,   0,   0,\n",
              "          0,   0],\n",
              "       [  0,   0,   0,   0,   0,   0,   0,   0,   0,   0,   0,   0,   0,\n",
              "          0,   0,   0,   0, 249, 253, 249,  64,   0,   0,   0,   0,   0,\n",
              "          0,   0],\n",
              "       [  0,   0,   0,   0,   0,   0,   0,   0,   0,   0,   0,   0,   0,\n",
              "          0,  46, 130, 183, 253, 253, 207,   2,   0,   0,   0,   0,   0,\n",
              "          0,   0],\n",
              "       [  0,   0,   0,   0,   0,   0,   0,   0,   0,   0,   0,   0,  39,\n",
              "        148, 229, 253, 253, 253, 250, 182,   0,   0,   0,   0,   0,   0,\n",
              "          0,   0],\n",
              "       [  0,   0,   0,   0,   0,   0,   0,   0,   0,   0,  24, 114, 221,\n",
              "        253, 253, 253, 253, 201,  78,   0,   0,   0,   0,   0,   0,   0,\n",
              "          0,   0],\n",
              "       [  0,   0,   0,   0,   0,   0,   0,   0,  23,  66, 213, 253, 253,\n",
              "        253, 253, 198,  81,   2,   0,   0,   0,   0,   0,   0,   0,   0,\n",
              "          0,   0],\n",
              "       [  0,   0,   0,   0,   0,   0,  18, 171, 219, 253, 253, 253, 253,\n",
              "        195,  80,   9,   0,   0,   0,   0,   0,   0,   0,   0,   0,   0,\n",
              "          0,   0],\n",
              "       [  0,   0,   0,   0,  55, 172, 226, 253, 253, 253, 253, 244, 133,\n",
              "         11,   0,   0,   0,   0,   0,   0,   0,   0,   0,   0,   0,   0,\n",
              "          0,   0],\n",
              "       [  0,   0,   0,   0, 136, 253, 253, 253, 212, 135, 132,  16,   0,\n",
              "          0,   0,   0,   0,   0,   0,   0,   0,   0,   0,   0,   0,   0,\n",
              "          0,   0],\n",
              "       [  0,   0,   0,   0,   0,   0,   0,   0,   0,   0,   0,   0,   0,\n",
              "          0,   0,   0,   0,   0,   0,   0,   0,   0,   0,   0,   0,   0,\n",
              "          0,   0],\n",
              "       [  0,   0,   0,   0,   0,   0,   0,   0,   0,   0,   0,   0,   0,\n",
              "          0,   0,   0,   0,   0,   0,   0,   0,   0,   0,   0,   0,   0,\n",
              "          0,   0],\n",
              "       [  0,   0,   0,   0,   0,   0,   0,   0,   0,   0,   0,   0,   0,\n",
              "          0,   0,   0,   0,   0,   0,   0,   0,   0,   0,   0,   0,   0,\n",
              "          0,   0]], dtype=uint8)"
            ],
            "text/html": [
              "<style>\n",
              "      .ndarray_repr .ndarray_raw_data {\n",
              "        display: none;\n",
              "      }\n",
              "      .ndarray_repr.show_array .ndarray_raw_data {\n",
              "        display: block;\n",
              "      }\n",
              "      .ndarray_repr.show_array .ndarray_image_preview {\n",
              "        display: none;\n",
              "      }\n",
              "      </style>\n",
              "      <div id=\"id-884e24bb-d13b-4af5-b134-2dc1ae191aae\" class=\"ndarray_repr\"><pre>ndarray (28, 28) <button style=\"padding: 0 2px;\">show data</button></pre><img src=\"data:image/png;base64,iVBORw0KGgoAAAANSUhEUgAAABwAAAAcCAAAAABXZoBIAAABAElEQVR4nGNgGMyAWUhIqK5jvdSy/9/rGRgYGFhgEnJsVjYCwQwMDAxPJgV+vniQgYGBgREqZ7iXH8r6l/SV4dn7m8gmCt3++/fv37/Htn3/iMW+gDnZf/+e5WbQnoXNNXyMs/5GoQoxwVmf/n9kSGFiwAW49/11wynJoPzx4YIcRlyygR/+/i2XxCWru+vv32nSuGQFYv/83Y3b4p9/fzpAmSyoMnohpiwM1w5h06Q+5enfv39/bcMiJVF09+/fv39P+mFKiTtd/fv3799jgZiBJLT69t+/f/8eDuDEkDJf8+jv379/v7Ryo4qzMDAwMAQGMjBc3/y35wM2V1IfAABFF16Aa0wAOwAAAABJRU5ErkJggg==\" class=\"ndarray_image_preview\" /><pre class=\"ndarray_raw_data\">array([[  0,   0,   0,   0,   0,   0,   0,   0,   0,   0,   0,   0,   0,\n",
              "          0,   0,   0,   0,   0,   0,   0,   0,   0,   0,   0,   0,   0,\n",
              "          0,   0],\n",
              "       [  0,   0,   0,   0,   0,   0,   0,   0,   0,   0,   0,   0,   0,\n",
              "          0,   0,   0,   0,   0,   0,   0,   0,   0,   0,   0,   0,   0,\n",
              "          0,   0],\n",
              "       [  0,   0,   0,   0,   0,   0,   0,   0,   0,   0,   0,   0,   0,\n",
              "          0,   0,   0,   0,   0,   0,   0,   0,   0,   0,   0,   0,   0,\n",
              "          0,   0],\n",
              "       [  0,   0,   0,   0,   0,   0,   0,   0,   0,   0,   0,   0,   0,\n",
              "          0,   0,   0,   0,   0,   0,   0,   0,   0,   0,   0,   0,   0,\n",
              "          0,   0],\n",
              "       [  0,   0,   0,   0,   0,   0,   0,   0,   0,   0,   0,   0,   0,\n",
              "          0,   0,   0,   0,   0,   0,   0,   0,   0,   0,   0,   0,   0,\n",
              "          0,   0],\n",
              "       [  0,   0,   0,   0,   0,   0,   0,   0,   0,   0,   0,   0,   3,\n",
              "         18,  18,  18, 126, 136, 175,  26, 166, 255, 247, 127,   0,   0,\n",
              "          0,   0],\n",
              "       [  0,   0,   0,   0,   0,   0,   0,   0,  30,  36,  94, 154, 170,\n",
              "        253, 253, 253, 253, 253, 225, 172, 253, 242, 195,  64,   0,   0,\n",
              "          0,   0],\n",
              "       [  0,   0,   0,   0,   0,   0,   0,  49, 238, 253, 253, 253, 253,\n",
              "        253, 253, 253, 253, 251,  93,  82,  82,  56,  39,   0,   0,   0,\n",
              "          0,   0],\n",
              "       [  0,   0,   0,   0,   0,   0,   0,  18, 219, 253, 253, 253, 253,\n",
              "        253, 198, 182, 247, 241,   0,   0,   0,   0,   0,   0,   0,   0,\n",
              "          0,   0],\n",
              "       [  0,   0,   0,   0,   0,   0,   0,   0,  80, 156, 107, 253, 253,\n",
              "        205,  11,   0,  43, 154,   0,   0,   0,   0,   0,   0,   0,   0,\n",
              "          0,   0],\n",
              "       [  0,   0,   0,   0,   0,   0,   0,   0,   0,  14,   1, 154, 253,\n",
              "         90,   0,   0,   0,   0,   0,   0,   0,   0,   0,   0,   0,   0,\n",
              "          0,   0],\n",
              "       [  0,   0,   0,   0,   0,   0,   0,   0,   0,   0,   0, 139, 253,\n",
              "        190,   2,   0,   0,   0,   0,   0,   0,   0,   0,   0,   0,   0,\n",
              "          0,   0],\n",
              "       [  0,   0,   0,   0,   0,   0,   0,   0,   0,   0,   0,  11, 190,\n",
              "        253,  70,   0,   0,   0,   0,   0,   0,   0,   0,   0,   0,   0,\n",
              "          0,   0],\n",
              "       [  0,   0,   0,   0,   0,   0,   0,   0,   0,   0,   0,   0,  35,\n",
              "        241, 225, 160, 108,   1,   0,   0,   0,   0,   0,   0,   0,   0,\n",
              "          0,   0],\n",
              "       [  0,   0,   0,   0,   0,   0,   0,   0,   0,   0,   0,   0,   0,\n",
              "         81, 240, 253, 253, 119,  25,   0,   0,   0,   0,   0,   0,   0,\n",
              "          0,   0],\n",
              "       [  0,   0,   0,   0,   0,   0,   0,   0,   0,   0,   0,   0,   0,\n",
              "          0,  45, 186, 253, 253, 150,  27,   0,   0,   0,   0,   0,   0,\n",
              "          0,   0],\n",
              "       [  0,   0,   0,   0,   0,   0,   0,   0,   0,   0,   0,   0,   0,\n",
              "          0,   0,  16,  93, 252, 253, 187,   0,   0,   0,   0,   0,   0,\n",
              "          0,   0],\n",
              "       [  0,   0,   0,   0,   0,   0,   0,   0,   0,   0,   0,   0,   0,\n",
              "          0,   0,   0,   0, 249, 253, 249,  64,   0,   0,   0,   0,   0,\n",
              "          0,   0],\n",
              "       [  0,   0,   0,   0,   0,   0,   0,   0,   0,   0,   0,   0,   0,\n",
              "          0,  46, 130, 183, 253, 253, 207,   2,   0,   0,   0,   0,   0,\n",
              "          0,   0],\n",
              "       [  0,   0,   0,   0,   0,   0,   0,   0,   0,   0,   0,   0,  39,\n",
              "        148, 229, 253, 253, 253, 250, 182,   0,   0,   0,   0,   0,   0,\n",
              "          0,   0],\n",
              "       [  0,   0,   0,   0,   0,   0,   0,   0,   0,   0,  24, 114, 221,\n",
              "        253, 253, 253, 253, 201,  78,   0,   0,   0,   0,   0,   0,   0,\n",
              "          0,   0],\n",
              "       [  0,   0,   0,   0,   0,   0,   0,   0,  23,  66, 213, 253, 253,\n",
              "        253, 253, 198,  81,   2,   0,   0,   0,   0,   0,   0,   0,   0,\n",
              "          0,   0],\n",
              "       [  0,   0,   0,   0,   0,   0,  18, 171, 219, 253, 253, 253, 253,\n",
              "        195,  80,   9,   0,   0,   0,   0,   0,   0,   0,   0,   0,   0,\n",
              "          0,   0],\n",
              "       [  0,   0,   0,   0,  55, 172, 226, 253, 253, 253, 253, 244, 133,\n",
              "         11,   0,   0,   0,   0,   0,   0,   0,   0,   0,   0,   0,   0,\n",
              "          0,   0],\n",
              "       [  0,   0,   0,   0, 136, 253, 253, 253, 212, 135, 132,  16,   0,\n",
              "          0,   0,   0,   0,   0,   0,   0,   0,   0,   0,   0,   0,   0,\n",
              "          0,   0],\n",
              "       [  0,   0,   0,   0,   0,   0,   0,   0,   0,   0,   0,   0,   0,\n",
              "          0,   0,   0,   0,   0,   0,   0,   0,   0,   0,   0,   0,   0,\n",
              "          0,   0],\n",
              "       [  0,   0,   0,   0,   0,   0,   0,   0,   0,   0,   0,   0,   0,\n",
              "          0,   0,   0,   0,   0,   0,   0,   0,   0,   0,   0,   0,   0,\n",
              "          0,   0],\n",
              "       [  0,   0,   0,   0,   0,   0,   0,   0,   0,   0,   0,   0,   0,\n",
              "          0,   0,   0,   0,   0,   0,   0,   0,   0,   0,   0,   0,   0,\n",
              "          0,   0]], dtype=uint8)</pre></div><script>\n",
              "      (() => {\n",
              "      const titles = ['show data', 'hide data'];\n",
              "      let index = 0\n",
              "      document.querySelector('#id-884e24bb-d13b-4af5-b134-2dc1ae191aae button').onclick = (e) => {\n",
              "        document.querySelector('#id-884e24bb-d13b-4af5-b134-2dc1ae191aae').classList.toggle('show_array');\n",
              "        index = (++index) % 2;\n",
              "        document.querySelector('#id-884e24bb-d13b-4af5-b134-2dc1ae191aae button').textContent = titles[index];\n",
              "        e.preventDefault();\n",
              "        e.stopPropagation();\n",
              "      }\n",
              "      })();\n",
              "    </script>"
            ]
          },
          "metadata": {},
          "execution_count": 12
        }
      ],
      "source": [
        "X_train[0]"
      ]
    },
    {
      "cell_type": "code",
      "execution_count": 13,
      "metadata": {
        "id": "X0T412CrkLSc"
      },
      "outputs": [],
      "source": [
        "X_train=X_train.reshape(60000,784)\n",
        "X_test=X_test.reshape(10000,784)"
      ]
    },
    {
      "cell_type": "code",
      "execution_count": 14,
      "metadata": {
        "id": "FN-tJBH1kNqt"
      },
      "outputs": [],
      "source": [
        "#normalize pixels from 0 to 1\n",
        "X_train=X_train/255.\n",
        "X_test=X_test/255."
      ]
    },
    {
      "cell_type": "code",
      "execution_count": 15,
      "metadata": {
        "colab": {
          "base_uri": "https://localhost:8080/"
        },
        "id": "bqf0D70jkP_k",
        "outputId": "83456fd2-e1fb-4b79-c6e6-9bc8850dd7db"
      },
      "outputs": [
        {
          "output_type": "execute_result",
          "data": {
            "text/plain": [
              "array([5, 0, 4, 1, 9], dtype=uint8)"
            ]
          },
          "metadata": {},
          "execution_count": 15
        }
      ],
      "source": [
        "y_train[:5]"
      ]
    },
    {
      "cell_type": "code",
      "execution_count": 16,
      "metadata": {
        "id": "uGrRGgPzkTRk"
      },
      "outputs": [],
      "source": [
        "from tensorflow.keras.utils import to_categorical\n",
        "num_classes=10\n",
        "y_train=to_categorical(y_train,num_classes)\n",
        "y_test=to_categorical(y_test,num_classes)"
      ]
    },
    {
      "cell_type": "code",
      "execution_count": 17,
      "metadata": {
        "colab": {
          "base_uri": "https://localhost:8080/"
        },
        "id": "R5_9F2F_kWLu",
        "outputId": "8214bd44-163e-4a42-db33-cb0e7fb68e8e"
      },
      "outputs": [
        {
          "output_type": "stream",
          "name": "stdout",
          "text": [
            "Imported\n"
          ]
        }
      ],
      "source": [
        "from tensorflow.keras.models import Sequential\n",
        "from tensorflow.keras.layers import Dense\n",
        "print('Imported')"
      ]
    },
    {
      "cell_type": "code",
      "execution_count": 18,
      "metadata": {
        "id": "jCacCFZFkZBN"
      },
      "outputs": [],
      "source": []
    },
    {
      "cell_type": "markdown",
      "source": [
        "# Create the architecture\n",
        "* Hidden layers\n",
        "* Nodes in each hidden layers 100,64,32\n",
        "* Activation function- ReLu hidden layer\n",
        "* Output layers softmax"
      ],
      "metadata": {
        "id": "EdmpdEoD21gT"
      }
    },
    {
      "cell_type": "code",
      "execution_count": 19,
      "metadata": {
        "id": "PTWRINUfkbm4"
      },
      "outputs": [],
      "source": [
        "\n",
        "model=Sequential()\n",
        "#First hidden layer\n",
        "\n",
        "model.add(Dense(100, activation='relu',input_shape=(784,)))\n",
        "# for every input 28*28 pixels will be added to this layer\n",
        "model.add(Dense(64,activation='relu'))\n",
        "model.add(Dense(32,activation='relu'))\n",
        "\n",
        "#output layer\n",
        "model.add(Dense(10,activation='softmax'))"
      ]
    },
    {
      "cell_type": "code",
      "execution_count": 21,
      "metadata": {
        "id": "__5qkpyxkg-z"
      },
      "outputs": [],
      "source": [
        "# 1.relu and softmax are activation function\n",
        "# 2.Sequential helps to add layers of network in a sequential manner\n",
        "# 3.Dense is a fully connected layer which is used to connect the preceding layer\n",
        "# 4.Mathematically it is applying the linear summation of weights, bias and inputs\n",
        "# 5. Weights are assigned using the kernel_initializer = 'glorot uniform' parameter that assigns weights. It is a weight matrix that are random values which is a uniform distribution initializes and is a popular method.\n",
        "\n"
      ]
    },
    {
      "cell_type": "code",
      "execution_count": 22,
      "metadata": {
        "id": "cBbKW1WXklys"
      },
      "outputs": [],
      "source": [
        "#compile model\n",
        "model.compile(loss='categorical_crossentropy',optimizer='adam',metrics=['accuracy'])\n"
      ]
    },
    {
      "cell_type": "code",
      "execution_count": 23,
      "metadata": {
        "colab": {
          "base_uri": "https://localhost:8080/"
        },
        "id": "JvF_tAsIko3d",
        "outputId": "7fc04776-c546-4adf-c54a-8c0930b4c2d3"
      },
      "outputs": [
        {
          "output_type": "stream",
          "name": "stdout",
          "text": [
            "shape (784, 100)\n",
            "layer namedense:\n",
            "[[-0.01348494 -0.03125039 -0.08096977 ... -0.02554866  0.03037468\n",
            "   0.05841346]\n",
            " [ 0.0193997   0.07347764  0.06791247 ... -0.02613873 -0.03988267\n",
            "   0.02379233]\n",
            " [ 0.01874278  0.00178787  0.03439259 ...  0.0422482   0.02649924\n",
            "  -0.04939267]\n",
            " ...\n",
            " [ 0.05877295  0.02143564 -0.01128276 ... -0.06321605  0.06347674\n",
            "  -0.06683384]\n",
            " [ 0.0821173   0.08141971 -0.03581344 ... -0.02846562 -0.051244\n",
            "   0.02980568]\n",
            " [ 0.03290791  0.06733155  0.0403157  ...  0.04505979 -0.01342165\n",
            "   0.05546038]]\n",
            "shape (100,)\n",
            "layer namedense:\n",
            "[0. 0. 0. 0. 0. 0. 0. 0. 0. 0. 0. 0. 0. 0. 0. 0. 0. 0. 0. 0. 0. 0. 0. 0.\n",
            " 0. 0. 0. 0. 0. 0. 0. 0. 0. 0. 0. 0. 0. 0. 0. 0. 0. 0. 0. 0. 0. 0. 0. 0.\n",
            " 0. 0. 0. 0. 0. 0. 0. 0. 0. 0. 0. 0. 0. 0. 0. 0. 0. 0. 0. 0. 0. 0. 0. 0.\n",
            " 0. 0. 0. 0. 0. 0. 0. 0. 0. 0. 0. 0. 0. 0. 0. 0. 0. 0. 0. 0. 0. 0. 0. 0.\n",
            " 0. 0. 0. 0.]\n",
            "shape (100, 64)\n",
            "layer namedense_1:\n",
            "[[ 0.03711431 -0.14616422 -0.03557143 ...  0.15124883 -0.04774351\n",
            "  -0.03105161]\n",
            " [ 0.14246286 -0.10048452  0.1644039  ... -0.03376658  0.17229448\n",
            "   0.10470714]\n",
            " [-0.02007696 -0.09911159 -0.02124742 ...  0.13670237  0.05337654\n",
            "  -0.152308  ]\n",
            " ...\n",
            " [ 0.01295765 -0.09435461 -0.09199364 ...  0.1623456   0.11846931\n",
            "   0.01362127]\n",
            " [-0.00360797  0.1811979  -0.124597   ...  0.13720806  0.02386773\n",
            "   0.1189274 ]\n",
            " [ 0.03670242  0.09763767  0.0700065  ...  0.00590332  0.11670379\n",
            "  -0.08154065]]\n",
            "shape (64,)\n",
            "layer namedense_1:\n",
            "[0. 0. 0. 0. 0. 0. 0. 0. 0. 0. 0. 0. 0. 0. 0. 0. 0. 0. 0. 0. 0. 0. 0. 0.\n",
            " 0. 0. 0. 0. 0. 0. 0. 0. 0. 0. 0. 0. 0. 0. 0. 0. 0. 0. 0. 0. 0. 0. 0. 0.\n",
            " 0. 0. 0. 0. 0. 0. 0. 0. 0. 0. 0. 0. 0. 0. 0. 0.]\n",
            "shape (64, 32)\n",
            "layer namedense_2:\n",
            "[[ 0.24277544 -0.08110821  0.1789999  ...  0.04236388 -0.22823828\n",
            "  -0.03091627]\n",
            " [-0.23328972  0.19086486 -0.07509601 ... -0.03077477 -0.20900148\n",
            "  -0.22318143]\n",
            " [ 0.08279324 -0.01123202  0.00934231 ...  0.07946628  0.12702519\n",
            "  -0.15024787]\n",
            " ...\n",
            " [-0.08661103  0.03370738  0.14870977 ...  0.06549025  0.10730714\n",
            "  -0.24204242]\n",
            " [ 0.13152689 -0.00396079 -0.02191359 ...  0.10352224 -0.01815069\n",
            "  -0.1940372 ]\n",
            " [-0.19405794 -0.09216517 -0.07876521 ... -0.17741042  0.10564584\n",
            "   0.09959143]]\n",
            "shape (32,)\n",
            "layer namedense_2:\n",
            "[0. 0. 0. 0. 0. 0. 0. 0. 0. 0. 0. 0. 0. 0. 0. 0. 0. 0. 0. 0. 0. 0. 0. 0.\n",
            " 0. 0. 0. 0. 0. 0. 0. 0.]\n",
            "shape (32, 10)\n",
            "layer namedense_3:\n",
            "[[-0.11736128  0.1819447  -0.09710422 -0.26569444 -0.318493    0.14492384\n",
            "  -0.07612512 -0.27838463  0.36242887 -0.3260648 ]\n",
            " [-0.15610161  0.2710968  -0.19229409  0.06139702 -0.32255307  0.00553307\n",
            "  -0.15362403 -0.12585294 -0.06320497 -0.24573678]\n",
            " [ 0.26122704  0.31651327  0.03363785  0.32608446 -0.25086677  0.1870006\n",
            "   0.24179837  0.12049118  0.26320127  0.2650257 ]\n",
            " [-0.21863055  0.2538236  -0.0997934   0.35157207 -0.37381718 -0.35276955\n",
            "   0.20105389  0.05989185 -0.06378332  0.05562603]\n",
            " [-0.2690337  -0.27493805  0.03708252 -0.34171802 -0.29507297  0.0459955\n",
            "  -0.37309977  0.35138676  0.34374496  0.36644515]\n",
            " [-0.17088613  0.29854378 -0.33988303 -0.03903916  0.11988616  0.3437681\n",
            "   0.27659443  0.04335165  0.19853917 -0.3272716 ]\n",
            " [-0.36176166  0.3673719  -0.14866634 -0.23652823 -0.09767187 -0.35036036\n",
            "  -0.02606866  0.17345855  0.35793975 -0.2189819 ]\n",
            " [-0.15465619  0.04855627 -0.16271867  0.35867885  0.17924777  0.20924541\n",
            "   0.33065322  0.26718393 -0.06504834 -0.23463872]\n",
            " [-0.09608397 -0.02587426 -0.02039832 -0.3765631   0.01273966  0.29304436\n",
            "  -0.22496086  0.22409454  0.2576091   0.26891944]\n",
            " [ 0.20562473  0.19970766  0.02133074 -0.2519738  -0.37792653 -0.07494256\n",
            "   0.29606    -0.25410157 -0.30725563 -0.31607163]\n",
            " [-0.0229781  -0.27032053 -0.35038605 -0.15047275  0.27517578  0.03824192\n",
            "  -0.19409555  0.30256853 -0.33808318 -0.1472338 ]\n",
            " [-0.20655468  0.06778213  0.22845528  0.36620155  0.05060402  0.1804975\n",
            "  -0.20889044  0.03804955  0.24860087 -0.2677238 ]\n",
            " [-0.1965399  -0.07163268 -0.24222855  0.1862872  -0.28506035 -0.26143217\n",
            "   0.20967963 -0.22943123  0.23969546 -0.09740746]\n",
            " [-0.27447703 -0.18238726 -0.2498511  -0.14644134 -0.03667143  0.34771898\n",
            "  -0.23770602  0.2553226  -0.25612986 -0.11285469]\n",
            " [-0.2597364  -0.08096224 -0.31461522  0.31904522  0.3523753  -0.27187735\n",
            "  -0.12040684 -0.30195758  0.3071966  -0.30443734]\n",
            " [ 0.2466608   0.36792722  0.20757559  0.04654539  0.33765903  0.05758458\n",
            "  -0.1185286  -0.33392382 -0.004603   -0.24795465]\n",
            " [ 0.03988561  0.14283726 -0.22916783 -0.2151483  -0.11903477 -0.34965947\n",
            "  -0.22565807  0.12088031  0.03186962 -0.2717282 ]\n",
            " [-0.34773922 -0.10274237  0.28929505 -0.27324256  0.05006972 -0.12420288\n",
            "  -0.13104647  0.23253086  0.08041626 -0.37245753]\n",
            " [-0.25489765  0.0254246  -0.11974731 -0.10414159  0.09878683  0.23714134\n",
            "   0.10561547 -0.31634927  0.21584335  0.33393535]\n",
            " [ 0.20644161  0.21276066 -0.05932179 -0.08122817  0.05108413 -0.01986206\n",
            "   0.08224449  0.10339165 -0.32960293 -0.20221995]\n",
            " [ 0.22980973 -0.15532331 -0.33748764 -0.07095918  0.11977002 -0.10486662\n",
            "   0.32377437  0.0030573   0.23330876  0.32542744]\n",
            " [ 0.20725629 -0.2685123  -0.15771645  0.28156653  0.35011128  0.11056471\n",
            "   0.0684804  -0.05281007  0.31873795  0.37469098]\n",
            " [-0.26632714  0.25157937 -0.25821608 -0.1800497   0.25609383  0.32110843\n",
            "  -0.35650504 -0.3715381  -0.09414834 -0.295246  ]\n",
            " [ 0.05971107  0.05066574 -0.01001516 -0.07292032  0.12016994 -0.1557808\n",
            "  -0.31005692 -0.06830713  0.03472084  0.0889239 ]\n",
            " [ 0.02979466 -0.01182887  0.12606344  0.33809742  0.00199646  0.07934001\n",
            "  -0.2189555   0.3353046  -0.11636993  0.11930987]\n",
            " [ 0.32863817 -0.21115148 -0.3757317   0.32969972  0.14569113 -0.2925105\n",
            "   0.35276487 -0.08419156  0.02618885  0.21072254]\n",
            " [-0.29262793 -0.02437127 -0.2946661   0.2837762   0.26700893  0.21668717\n",
            "   0.23227713 -0.2529266   0.13988188 -0.33435616]\n",
            " [ 0.19827369  0.314626    0.16857257 -0.16731618  0.36626223 -0.189864\n",
            "  -0.19898395  0.17674127  0.24308589  0.23837265]\n",
            " [-0.11024958 -0.3518167   0.26599154  0.01608899 -0.28403494  0.16550204\n",
            "  -0.15048654  0.00875139 -0.04818174 -0.26143712]\n",
            " [ 0.34324005 -0.13086742  0.29419985 -0.2466571  -0.01366413  0.3190035\n",
            "  -0.308954    0.07793063  0.17520049 -0.04413906]\n",
            " [-0.36100632  0.35130915 -0.24618536  0.26394263 -0.18712255  0.10528097\n",
            "  -0.28644782  0.08254302  0.36158285  0.3740225 ]\n",
            " [-0.00296268 -0.35258484 -0.11092237 -0.08405325 -0.13363166 -0.16439533\n",
            "  -0.1957367   0.17957559  0.11585692  0.1960186 ]]\n",
            "shape (10,)\n",
            "layer namedense_3:\n",
            "[0. 0. 0. 0. 0. 0. 0. 0. 0. 0.]\n"
          ]
        }
      ],
      "source": [
        "for layer in model.layers:\n",
        "    if hasattr(layer,'weights'):\n",
        "        weights, biases=layer.get_weights()\n",
        "        print(\"shape\",weights.shape)\n",
        "        print(f'layer name{layer.name}:')\n",
        "        print(weights)\n",
        "        print(\"shape\",biases.shape)\n",
        "        print(f'layer name{layer.name}:')\n",
        "        print(biases)\n"
      ]
    },
    {
      "cell_type": "code",
      "execution_count": 24,
      "metadata": {
        "id": "1QUuqiMfkqbu"
      },
      "outputs": [],
      "source": [
        "# the training set will be passed through the neural network in batches\n",
        "# for 1 epoch or one cycle, the training set is passed in a specified batch size"
      ]
    },
    {
      "cell_type": "code",
      "execution_count": 25,
      "metadata": {
        "colab": {
          "base_uri": "https://localhost:8080/"
        },
        "id": "HUZSFy_3ku_1",
        "outputId": "98c0def8-0d73-4ec2-aa35-b904ae6440e5"
      },
      "outputs": [
        {
          "output_type": "stream",
          "name": "stdout",
          "text": [
            "Epoch 1/10\n",
            "469/469 [==============================] - 4s 6ms/step - loss: 0.3627 - accuracy: 0.8926 - val_loss: 0.1590 - val_accuracy: 0.9523\n",
            "Epoch 2/10\n",
            "469/469 [==============================] - 3s 7ms/step - loss: 0.1393 - accuracy: 0.9584 - val_loss: 0.1139 - val_accuracy: 0.9657\n",
            "Epoch 3/10\n",
            "469/469 [==============================] - 4s 8ms/step - loss: 0.0995 - accuracy: 0.9695 - val_loss: 0.0962 - val_accuracy: 0.9712\n",
            "Epoch 4/10\n",
            "469/469 [==============================] - 3s 6ms/step - loss: 0.0777 - accuracy: 0.9765 - val_loss: 0.0868 - val_accuracy: 0.9731\n",
            "Epoch 5/10\n",
            "469/469 [==============================] - 5s 11ms/step - loss: 0.0618 - accuracy: 0.9813 - val_loss: 0.0926 - val_accuracy: 0.9708\n",
            "Epoch 6/10\n",
            "469/469 [==============================] - 6s 14ms/step - loss: 0.0531 - accuracy: 0.9831 - val_loss: 0.0781 - val_accuracy: 0.9744\n",
            "Epoch 7/10\n",
            "469/469 [==============================] - 4s 9ms/step - loss: 0.0434 - accuracy: 0.9865 - val_loss: 0.0818 - val_accuracy: 0.9755\n",
            "Epoch 8/10\n",
            "469/469 [==============================] - 3s 6ms/step - loss: 0.0349 - accuracy: 0.9892 - val_loss: 0.0883 - val_accuracy: 0.9739\n",
            "Epoch 9/10\n",
            "469/469 [==============================] - 3s 6ms/step - loss: 0.0315 - accuracy: 0.9901 - val_loss: 0.0852 - val_accuracy: 0.9763\n",
            "Epoch 10/10\n",
            "469/469 [==============================] - 5s 10ms/step - loss: 0.0266 - accuracy: 0.9914 - val_loss: 0.0923 - val_accuracy: 0.9743\n"
          ]
        }
      ],
      "source": [
        "#training\n",
        "batch_size=128\n",
        "epochs=10 #complete cycle\n",
        "\n",
        "history=model.fit(X_train,y_train,\n",
        "                  batch_size=batch_size,\n",
        "                  epochs=epochs,\n",
        "                  validation_data=(X_test,y_test))"
      ]
    },
    {
      "cell_type": "code",
      "execution_count": 26,
      "metadata": {
        "colab": {
          "base_uri": "https://localhost:8080/"
        },
        "id": "D5bHIvpukxHL",
        "outputId": "98052ce8-0240-4575-b38a-cfb1e869c8a2"
      },
      "outputs": [
        {
          "output_type": "stream",
          "name": "stdout",
          "text": [
            "313/313 [==============================] - 1s 3ms/step - loss: 0.0923 - accuracy: 0.9743\n"
          ]
        },
        {
          "output_type": "execute_result",
          "data": {
            "text/plain": [
              "[0.09230324625968933, 0.9743000268936157]"
            ]
          },
          "metadata": {},
          "execution_count": 26
        }
      ],
      "source": [
        "model.evaluate(X_test,y_test)"
      ]
    },
    {
      "cell_type": "code",
      "execution_count": 27,
      "metadata": {
        "colab": {
          "base_uri": "https://localhost:8080/"
        },
        "id": "i254UK-Sk5JX",
        "outputId": "fa429461-0ecc-4332-df8c-15f26c695b40"
      },
      "outputs": [
        {
          "output_type": "stream",
          "name": "stdout",
          "text": [
            "1875/1875 [==============================] - 8s 4ms/step - loss: 0.0215 - accuracy: 0.9929\n"
          ]
        },
        {
          "output_type": "execute_result",
          "data": {
            "text/plain": [
              "[0.02151655964553356, 0.9929333329200745]"
            ]
          },
          "metadata": {},
          "execution_count": 27
        }
      ],
      "source": [
        "model.evaluate(X_train,y_train)"
      ]
    },
    {
      "cell_type": "code",
      "execution_count": 28,
      "metadata": {
        "colab": {
          "base_uri": "https://localhost:8080/",
          "height": 472
        },
        "id": "l3RYueG4k7Ut",
        "outputId": "01f09bbb-bf0a-49a1-feb2-6b932364e441"
      },
      "outputs": [
        {
          "output_type": "display_data",
          "data": {
            "text/plain": [
              "<Figure size 640x480 with 1 Axes>"
            ],
            "image/png": "[encoded data removed]"
          },
          "metadata": {}
        }
      ],
      "source": [
        "plt.plot(history.history['accuracy'])\n",
        "plt.plot(history.history['val_accuracy'])\n",
        "plt.title('Model Accuracy')\n",
        "plt.xlabel('Epochs')\n",
        "plt.ylabel('Accuracy')\n",
        "plt.legend(['train','test'],loc='best')\n",
        "plt.show()"
      ]
    },
    {
      "cell_type": "code",
      "execution_count": 29,
      "metadata": {
        "colab": {
          "base_uri": "https://localhost:8080/"
        },
        "id": "oouMiuQG-JZt",
        "outputId": "ec2ea5c9-2a38-416b-c901-c62b74d7a81e"
      },
      "outputs": [
        {
          "output_type": "stream",
          "name": "stderr",
          "text": [
            "/usr/local/lib/python3.10/dist-packages/keras/src/engine/training.py:3103: UserWarning: You are saving your model as an HDF5 file via `model.save()`. This file format is considered legacy. We recommend using instead the native Keras format, e.g. `model.save('my_model.keras')`.\n",
            "  saving_api.save_model(\n"
          ]
        }
      ],
      "source": [
        "model.save('handwritten_digit_pred.h5')"
      ]
    },
    {
      "cell_type": "code",
      "execution_count": 30,
      "metadata": {
        "colab": {
          "base_uri": "https://localhost:8080/"
        },
        "id": "GWVXCF6klDPj",
        "outputId": "f6325b8d-9112-46ad-8a4e-378c0483781c"
      },
      "outputs": [
        {
          "output_type": "stream",
          "name": "stdout",
          "text": [
            "model loaded\n"
          ]
        }
      ],
      "source": [
        "#load the model\n",
        "from tensorflow.keras.models import load_model\n",
        "loaded_model=load_model('handwritten_digit_pred.h5')\n",
        "print('model loaded')"
      ]
    },
    {
      "cell_type": "code",
      "execution_count": 31,
      "metadata": {
        "colab": {
          "base_uri": "https://localhost:8080/",
          "height": 472
        },
        "id": "fofEO0z9u_Le",
        "outputId": "4b8fefef-e802-4f15-9b8c-8a56c21345df"
      },
      "outputs": [
        {
          "output_type": "display_data",
          "data": {
            "text/plain": [
              "<Figure size 640x480 with 1 Axes>"
            ],
            "image/png": "[encoded data removed]"
          },
          "metadata": {}
        }
      ],
      "source": [
        "plt.plot(history.history['loss'])\n",
        "plt.plot(history.history['val_loss'])\n",
        "plt.title('Model loss')\n",
        "plt.xlabel('Epochs')\n",
        "plt.ylabel('loss')\n",
        "plt.legend(['train','test'],loc='best')\n",
        "plt.show()"
      ]
    },
    {
      "cell_type": "code",
      "execution_count": 31,
      "metadata": {
        "id": "Do0Byk3I97D4"
      },
      "outputs": [],
      "source": []
    }
  ],
  "metadata": {
    "colab": {
      "provenance": []
    },
    "kernelspec": {
      "display_name": "Python 3",
      "name": "python3"
    },
    "language_info": {
      "name": "python"
    }
  },
  "nbformat": 4,
  "nbformat_minor": 0
}