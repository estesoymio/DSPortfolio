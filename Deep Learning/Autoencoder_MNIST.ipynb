{
  "nbformat": 4,
  "nbformat_minor": 0,
  "metadata": {
    "colab": {
      "provenance": [],
      "gpuType": "T4"
    },
    "kernelspec": {
      "name": "python3",
      "display_name": "Python 3"
    },
    "language_info": {
      "name": "python"
    },
    "accelerator": "GPU"
  },
  "cells": [
    {
      "cell_type": "markdown",
      "source": [
        "# Implement Autoencoder on MNIST dataset\n",
        "1. Vanilla Autoencoder\n",
        "2. Multilayer AE\n",
        "3. Denoise AE\n",
        "4. Conv AE"
      ],
      "metadata": {
        "id": "nTl2iyeYVglN"
      }
    },
    {
      "cell_type": "code",
      "execution_count": null,
      "metadata": {
        "colab": {
          "base_uri": "https://localhost:8080/"
        },
        "id": "FbivxKoAVJD_",
        "outputId": "7680fee4-8a67-407f-9eb2-d8be73f406ec"
      },
      "outputs": [
        {
          "output_type": "stream",
          "name": "stdout",
          "text": [
            "imported\n"
          ]
        }
      ],
      "source": [
        "# import the library\n",
        "import numpy as np\n",
        "import matplotlib.pyplot as plt\n",
        "from tensorflow.keras.layers import Conv2D,Dense,Flatten,MaxPooling2D\n",
        "from tensorflow.keras.datasets import mnist\n",
        "from tensorflow.keras.models import Model\n",
        "print('imported')"
      ]
    },
    {
      "cell_type": "code",
      "source": [
        "# load the MNIST data\n",
        "(X_train,_),(X_test,_)=mnist.load_data()"
      ],
      "metadata": {
        "id": "_g5WOn6RWZqT"
      },
      "execution_count": null,
      "outputs": []
    },
    {
      "cell_type": "code",
      "source": [
        "X_train.shape"
      ],
      "metadata": {
        "colab": {
          "base_uri": "https://localhost:8080/"
        },
        "id": "Q3Sxo2JtWmus",
        "outputId": "e02eaf47-543a-4b8e-e8b4-5157f89d1f84"
      },
      "execution_count": null,
      "outputs": [
        {
          "output_type": "execute_result",
          "data": {
            "text/plain": [
              "(60000, 28, 28)"
            ]
          },
          "metadata": {},
          "execution_count": 20
        }
      ]
    },
    {
      "cell_type": "code",
      "source": [
        "# reshape X_train & X_test & Normalize\n",
        "X_train=X_train.reshape(60000,784)\n",
        "X_test=X_test.reshape(10000,784)\n",
        "X_train=X_train.astype('float')/255.\n",
        "X_test=X_test.astype('float')/255."
      ],
      "metadata": {
        "id": "YP7dvgEGWog7"
      },
      "execution_count": null,
      "outputs": []
    },
    {
      "cell_type": "code",
      "source": [
        "X_train.shape"
      ],
      "metadata": {
        "colab": {
          "base_uri": "https://localhost:8080/"
        },
        "id": "D111bZm_Xn9F",
        "outputId": "35ecbca3-be45-45b3-bdb2-93a1de534c31"
      },
      "execution_count": null,
      "outputs": [
        {
          "output_type": "execute_result",
          "data": {
            "text/plain": [
              "(60000, 784)"
            ]
          },
          "metadata": {},
          "execution_count": 22
        }
      ]
    },
    {
      "cell_type": "code",
      "source": [
        "X_test.shape"
      ],
      "metadata": {
        "colab": {
          "base_uri": "https://localhost:8080/"
        },
        "id": "LGVmPnDmXrXw",
        "outputId": "1feb5d21-1a37-4220-ff93-6ebc9b333c72"
      },
      "execution_count": null,
      "outputs": [
        {
          "output_type": "execute_result",
          "data": {
            "text/plain": [
              "(10000, 784)"
            ]
          },
          "metadata": {},
          "execution_count": 23
        }
      ]
    },
    {
      "cell_type": "markdown",
      "source": [
        "# Vanilla Autoencoder"
      ],
      "metadata": {
        "id": "S84P5JWRYB2y"
      }
    },
    {
      "cell_type": "code",
      "source": [
        "# parameterts\n",
        "input_size=784\n",
        "hidden_size=64\n",
        "output_size=784"
      ],
      "metadata": {
        "id": "p8f6N2m7X_Du"
      },
      "execution_count": null,
      "outputs": []
    },
    {
      "cell_type": "markdown",
      "source": [
        "# Neural network\n",
        "---Sequential API,\n",
        "---Functional API"
      ],
      "metadata": {
        "id": "bISVSTO1ZvAL"
      }
    },
    {
      "cell_type": "code",
      "source": [
        "# Functional Keras API\n",
        "from tensorflow.keras.layers import Input\n",
        "x=Input(shape=(input_size))\n",
        "h=Dense(hidden_size,activation='relu')(x)\n",
        "r=Dense(output_size,activation='sigmoid')(h)\n",
        "\n",
        "model_ae=Model(inputs=x,outputs=r)"
      ],
      "metadata": {
        "id": "px8xOn6PYYwU"
      },
      "execution_count": null,
      "outputs": []
    },
    {
      "cell_type": "code",
      "source": [
        "model_ae.summary()"
      ],
      "metadata": {
        "colab": {
          "base_uri": "https://localhost:8080/"
        },
        "id": "w4e_KLTmawgP",
        "outputId": "0eb9af83-2c2f-4fcc-aaea-5b955a16cfdb"
      },
      "execution_count": null,
      "outputs": [
        {
          "output_type": "stream",
          "name": "stdout",
          "text": [
            "Model: \"model_1\"\n",
            "_________________________________________________________________\n",
            " Layer (type)                Output Shape              Param #   \n",
            "=================================================================\n",
            " input_2 (InputLayer)        [(None, 784)]             0         \n",
            "                                                                 \n",
            " dense_2 (Dense)             (None, 64)                50240     \n",
            "                                                                 \n",
            " dense_3 (Dense)             (None, 784)               50960     \n",
            "                                                                 \n",
            "=================================================================\n",
            "Total params: 101200 (395.31 KB)\n",
            "Trainable params: 101200 (395.31 KB)\n",
            "Non-trainable params: 0 (0.00 Byte)\n",
            "_________________________________________________________________\n"
          ]
        }
      ]
    },
    {
      "cell_type": "code",
      "source": [
        "# compile the model\n",
        "model_ae.compile(optimizer='adam',loss='mse')"
      ],
      "metadata": {
        "id": "ZCCfy0u7ay6d"
      },
      "execution_count": null,
      "outputs": []
    },
    {
      "cell_type": "code",
      "source": [
        "epochs=5\n",
        "batch_size=128\n",
        "\n",
        "history=model_ae.fit(X_train,X_train,\n",
        "                       batch_size=batch_size,\n",
        "                       epochs=epochs,\n",
        "                       validation_data=(X_test,X_test))"
      ],
      "metadata": {
        "colab": {
          "base_uri": "https://localhost:8080/"
        },
        "id": "ofjJRRuDc738",
        "outputId": "4d331ed3-713a-4095-eb3a-cae6e0de759c"
      },
      "execution_count": null,
      "outputs": [
        {
          "output_type": "stream",
          "name": "stdout",
          "text": [
            "Epoch 1/5\n",
            "469/469 [==============================] - 5s 9ms/step - loss: 0.0351 - val_loss: 0.0147\n",
            "Epoch 2/5\n",
            "469/469 [==============================] - 3s 7ms/step - loss: 0.0108 - val_loss: 0.0076\n",
            "Epoch 3/5\n",
            "469/469 [==============================] - 3s 7ms/step - loss: 0.0063 - val_loss: 0.0050\n",
            "Epoch 4/5\n",
            "469/469 [==============================] - 5s 10ms/step - loss: 0.0045 - val_loss: 0.0038\n",
            "Epoch 5/5\n",
            "469/469 [==============================] - 3s 7ms/step - loss: 0.0036 - val_loss: 0.0032\n"
          ]
        }
      ]
    },
    {
      "cell_type": "code",
      "source": [
        "model_ae.evaluate(X_test,X_test)"
      ],
      "metadata": {
        "colab": {
          "base_uri": "https://localhost:8080/"
        },
        "id": "45gea1Z8dufK",
        "outputId": "daff968e-b117-47e4-b037-d885ec629755"
      },
      "execution_count": null,
      "outputs": [
        {
          "output_type": "stream",
          "name": "stdout",
          "text": [
            "313/313 [==============================] - 1s 3ms/step - loss: 0.0055\n"
          ]
        },
        {
          "output_type": "execute_result",
          "data": {
            "text/plain": [
              "0.00553419953212142"
            ]
          },
          "metadata": {},
          "execution_count": 29
        }
      ]
    },
    {
      "cell_type": "code",
      "source": [
        "# predict on test images\n",
        "decoded_imgs=model_ae.predict(X_test)"
      ],
      "metadata": {
        "colab": {
          "base_uri": "https://localhost:8080/"
        },
        "id": "0wkLut30d0bx",
        "outputId": "45ee5239-59ae-4fbe-c63f-77962327a098"
      },
      "execution_count": null,
      "outputs": [
        {
          "output_type": "stream",
          "name": "stdout",
          "text": [
            "313/313 [==============================] - 1s 3ms/step\n"
          ]
        }
      ]
    },
    {
      "cell_type": "code",
      "source": [
        "n = 10\n",
        "plt.figure(figsize=(20, 6))\n",
        "for i in range(n):\n",
        "    # display original\n",
        "    ax = plt.subplot(3, n, i+1)\n",
        "    plt.imshow(X_test[i].reshape(28, 28))\n",
        "    plt.gray()\n",
        "    ax.get_xaxis().set_visible(False)\n",
        "    ax.get_yaxis().set_visible(False)\n",
        "\n",
        "\n",
        "    # display reconstruction\n",
        "    ax = plt.subplot(3, n, i+n+1)\n",
        "    plt.imshow(decoded_imgs[i].reshape(28, 28))\n",
        "    plt.gray()\n",
        "    ax.get_xaxis().set_visible(False)\n",
        "    ax.get_yaxis().set_visible(False)\n",
        "\n",
        "plt.show()"
      ],
      "metadata": {
        "colab": {
          "base_uri": "https://localhost:8080/",
          "height": 351
        },
        "id": "G79ziyGfeUDN",
        "outputId": "7c8aee7d-3051-4815-dc7d-980b88a77c50"
      },
      "execution_count": null,
      "outputs": [
        {
          "output_type": "display_data",
          "data": {
            "text/plain": [
              "<Figure size 2000x600 with 20 Axes>"
            ],
            "image/png": "[encoded data removed]"
          },
          "metadata": {}
        }
      ]
    },
    {
      "cell_type": "code",
      "source": [
        "# Print encoded/Compressed images\n",
        "encoder=Model(x,h)\n",
        "encoded_imgs=encoder.predict(X_test)"
      ],
      "metadata": {
        "colab": {
          "base_uri": "https://localhost:8080/"
        },
        "id": "99KjpROiji5z",
        "outputId": "3d085d2d-6d76-4170-db20-dd8df416df03"
      },
      "execution_count": null,
      "outputs": [
        {
          "output_type": "stream",
          "name": "stdout",
          "text": [
            "313/313 [==============================] - 1s 2ms/step\n"
          ]
        }
      ]
    },
    {
      "cell_type": "code",
      "source": [],
      "metadata": {
        "id": "eE_Drm5XXqqJ"
      },
      "execution_count": null,
      "outputs": []
    },
    {
      "cell_type": "code",
      "source": [
        "conv_encoder = Model(x, h)\n",
        "encoded_imgs = conv_encoder.predict(X_test)\n",
        "\n",
        "n = 10\n",
        "plt.figure(figsize=(20, 8))\n",
        "for i in range(n):\n",
        "    ax = plt.subplot(1, n, i+1)\n",
        "    plt.imshow(encoded_imgs[i].reshape(-1,8, 16).T)\n",
        "    plt.gray()\n",
        "    ax.get_xaxis().set_visible(False)\n",
        "    ax.get_yaxis().set_visible(False)\n",
        "plt.show()"
      ],
      "metadata": {
        "colab": {
          "base_uri": "https://localhost:8080/",
          "height": 233
        },
        "id": "aOeRr_Yzjd7V",
        "outputId": "58b6646e-de72-47f0-b93c-8a90dc4d75de"
      },
      "execution_count": null,
      "outputs": [
        {
          "output_type": "stream",
          "name": "stdout",
          "text": [
            "313/313 [==============================] - 1s 3ms/step\n"
          ]
        },
        {
          "output_type": "display_data",
          "data": {
            "text/plain": [
              "<Figure size 2000x800 with 10 Axes>"
            ],
            "image/png": "[encoded data removed]"
          },
          "metadata": {}
        }
      ]
    },
    {
      "cell_type": "markdown",
      "source": [
        "# Multilayer Autoencoder"
      ],
      "metadata": {
        "id": "B1liFqaSf8HU"
      }
    },
    {
      "cell_type": "code",
      "source": [
        "# parameters\n",
        "input_size=784\n",
        "hidden_size=128\n",
        "code_size=64"
      ],
      "metadata": {
        "id": "jxTl9Sh7gUUy"
      },
      "execution_count": null,
      "outputs": []
    },
    {
      "cell_type": "code",
      "source": [
        "# encoder\n",
        "x=Input(shape=(input_size,))\n",
        "hidden_1=Dense(hidden_size,activation='relu')(x)\n",
        "\n",
        "h=Dense(code_size,activation='relu')(hidden_1)\n",
        "\n",
        "#decoder part\n",
        "hidden_2=Dense(hidden_size,activation='relu')(h)\n",
        "r=Dense(input_size,activation='sigmoid')(hidden_2)\n",
        "\n",
        "autoencoder1=Model(inputs=x,outputs=r)"
      ],
      "metadata": {
        "id": "ccYyAnatgtz1"
      },
      "execution_count": null,
      "outputs": []
    },
    {
      "cell_type": "code",
      "source": [
        "autoencoder1.summary()"
      ],
      "metadata": {
        "colab": {
          "base_uri": "https://localhost:8080/"
        },
        "id": "D1FZcKFlgwrh",
        "outputId": "6f86d560-1bb6-4fa7-e767-5526b5bfa0fc"
      },
      "execution_count": null,
      "outputs": [
        {
          "output_type": "stream",
          "name": "stdout",
          "text": [
            "Model: \"model_2\"\n",
            "_________________________________________________________________\n",
            " Layer (type)                Output Shape              Param #   \n",
            "=================================================================\n",
            " input_3 (InputLayer)        [(None, 784)]             0         \n",
            "                                                                 \n",
            " dense_4 (Dense)             (None, 128)               100480    \n",
            "                                                                 \n",
            " dense_5 (Dense)             (None, 64)                8256      \n",
            "                                                                 \n",
            " dense_6 (Dense)             (None, 128)               8320      \n",
            "                                                                 \n",
            " dense_7 (Dense)             (None, 784)               101136    \n",
            "                                                                 \n",
            "=================================================================\n",
            "Total params: 218192 (852.31 KB)\n",
            "Trainable params: 218192 (852.31 KB)\n",
            "Non-trainable params: 0 (0.00 Byte)\n",
            "_________________________________________________________________\n"
          ]
        }
      ]
    },
    {
      "cell_type": "code",
      "source": [
        "# compile the model\n",
        "autoencoder1.compile(optimizer='adam',loss='mse')"
      ],
      "metadata": {
        "id": "fOIZWEmHgypH"
      },
      "execution_count": null,
      "outputs": []
    },
    {
      "cell_type": "code",
      "source": [
        "epochs=5\n",
        "batch_size=128\n",
        "\n",
        "history=autoencoder1.fit(X_train,X_train,\n",
        "                       batch_size=batch_size,\n",
        "                       epochs=epochs,\n",
        "                       validation_data=(X_test,X_test))"
      ],
      "metadata": {
        "colab": {
          "base_uri": "https://localhost:8080/"
        },
        "id": "FJ03oxKIhiDd",
        "outputId": "8343ca19-0565-46b3-f777-9118d88c2fc6"
      },
      "execution_count": null,
      "outputs": [
        {
          "output_type": "stream",
          "name": "stdout",
          "text": [
            "Epoch 1/5\n",
            "469/469 [==============================] - 5s 8ms/step - loss: 0.0408 - val_loss: 0.0191\n",
            "Epoch 2/5\n",
            "469/469 [==============================] - 5s 10ms/step - loss: 0.0156 - val_loss: 0.0127\n",
            "Epoch 3/5\n",
            "469/469 [==============================] - 4s 8ms/step - loss: 0.0117 - val_loss: 0.0103\n",
            "Epoch 4/5\n",
            "469/469 [==============================] - 4s 8ms/step - loss: 0.0098 - val_loss: 0.0087\n",
            "Epoch 5/5\n",
            "469/469 [==============================] - 4s 10ms/step - loss: 0.0085 - val_loss: 0.0078\n"
          ]
        }
      ]
    },
    {
      "cell_type": "code",
      "source": [
        "autoencoder1.evaluate(X_test,X_test)"
      ],
      "metadata": {
        "colab": {
          "base_uri": "https://localhost:8080/"
        },
        "id": "O9W4hj2ah876",
        "outputId": "d71526d7-5752-4187-8b00-54762f4b2be4"
      },
      "execution_count": null,
      "outputs": [
        {
          "output_type": "stream",
          "name": "stdout",
          "text": [
            "313/313 [==============================] - 2s 7ms/step - loss: 0.0078\n"
          ]
        },
        {
          "output_type": "execute_result",
          "data": {
            "text/plain": [
              "0.007770969532430172"
            ]
          },
          "metadata": {},
          "execution_count": 37
        }
      ]
    },
    {
      "cell_type": "code",
      "source": [
        "# predict on test images\n",
        "decoded_imgs=autoencoder1.predict(X_test)"
      ],
      "metadata": {
        "colab": {
          "base_uri": "https://localhost:8080/"
        },
        "id": "NHabdsdAiH17",
        "outputId": "66fe3dbb-0875-45d7-ce5d-63a76a9db115"
      },
      "execution_count": null,
      "outputs": [
        {
          "output_type": "stream",
          "name": "stdout",
          "text": [
            "313/313 [==============================] - 1s 2ms/step\n"
          ]
        }
      ]
    },
    {
      "cell_type": "code",
      "source": [
        "n = 10\n",
        "plt.figure(figsize=(20, 6))\n",
        "for i in range(n):\n",
        "    # display original\n",
        "    ax = plt.subplot(3, n, i+1)\n",
        "    plt.imshow(X_test[i].reshape(28, 28))\n",
        "    plt.gray()\n",
        "    ax.get_xaxis().set_visible(False)\n",
        "    ax.get_yaxis().set_visible(False)\n",
        "\n",
        "\n",
        "    # display reconstruction\n",
        "    ax = plt.subplot(3, n, i+n+1)\n",
        "    plt.imshow(decoded_imgs[i].reshape(28, 28))\n",
        "    plt.gray()\n",
        "    ax.get_xaxis().set_visible(False)\n",
        "    ax.get_yaxis().set_visible(False)\n",
        "\n",
        "plt.show()"
      ],
      "metadata": {
        "colab": {
          "base_uri": "https://localhost:8080/",
          "height": 351
        },
        "id": "iWG_tV1siLhR",
        "outputId": "72142b4c-360f-40a8-887a-0538b6ef45b5"
      },
      "execution_count": null,
      "outputs": [
        {
          "output_type": "display_data",
          "data": {
            "text/plain": [
              "<Figure size 2000x600 with 20 Axes>"
            ],
            "image/png": "[encoded data removed]"
          },
          "metadata": {}
        }
      ]
    },
    {
      "cell_type": "markdown",
      "source": [
        "# Denoise Autoencoder"
      ],
      "metadata": {
        "id": "GEl8u7dql6Qi"
      }
    },
    {
      "cell_type": "markdown",
      "source": [
        "# create noisy input"
      ],
      "metadata": {
        "id": "ZzmyJWc5mGYT"
      }
    },
    {
      "cell_type": "markdown",
      "source": [
        "# Input with noise"
      ],
      "metadata": {
        "id": "W7h19Adxmkx6"
      }
    },
    {
      "cell_type": "code",
      "source": [
        "# create noisy data\n",
        "noise_factor=0.2\n",
        "X_train_noisy=X_train+noise_factor*np.random.normal(loc=0.0,scale=1.0,size=X_train.shape)\n",
        "X_test_noisy=X_test+noise_factor*np.random.normal(loc=0.0,scale=1.0,size=X_test.shape)"
      ],
      "metadata": {
        "id": "nKd1BSNfmTY1"
      },
      "execution_count": null,
      "outputs": []
    },
    {
      "cell_type": "code",
      "source": [
        "X_train_noisy=np.clip(X_train_noisy,0.,1.)\n",
        "X_test_noisy=np.clip(X_test_noisy,0.,1.)"
      ],
      "metadata": {
        "id": "RNxtwcWqncz1"
      },
      "execution_count": null,
      "outputs": []
    },
    {
      "cell_type": "code",
      "source": [
        "# create the model\n",
        "from tensorflow.keras.models import Sequential\n",
        "model=Sequential()\n",
        "model.add(Dense(500,input_dim=784,activation='relu'))\n",
        "model.add(Dense(300,activation='relu'))\n",
        "model.add(Dense(100,activation='relu'))\n",
        "model.add(Dense(300,activation='relu'))\n",
        "model.add(Dense(500,activation='relu'))\n",
        "model.add(Dense(784,activation='sigmoid'))"
      ],
      "metadata": {
        "id": "likDWcAAnCFT"
      },
      "execution_count": null,
      "outputs": []
    },
    {
      "cell_type": "code",
      "source": [
        "model.summary()"
      ],
      "metadata": {
        "colab": {
          "base_uri": "https://localhost:8080/"
        },
        "id": "xZve9XrKoUAI",
        "outputId": "345f4c9d-0d06-4651-f770-80163d6be96f"
      },
      "execution_count": null,
      "outputs": [
        {
          "output_type": "stream",
          "name": "stdout",
          "text": [
            "Model: \"sequential\"\n",
            "_________________________________________________________________\n",
            " Layer (type)                Output Shape              Param #   \n",
            "=================================================================\n",
            " dense_10 (Dense)            (None, 500)               392500    \n",
            "                                                                 \n",
            " dense_11 (Dense)            (None, 300)               150300    \n",
            "                                                                 \n",
            " dense_12 (Dense)            (None, 100)               30100     \n",
            "                                                                 \n",
            " dense_13 (Dense)            (None, 300)               30300     \n",
            "                                                                 \n",
            " dense_14 (Dense)            (None, 500)               150500    \n",
            "                                                                 \n",
            " dense_15 (Dense)            (None, 784)               392784    \n",
            "                                                                 \n",
            "=================================================================\n",
            "Total params: 1146484 (4.37 MB)\n",
            "Trainable params: 1146484 (4.37 MB)\n",
            "Non-trainable params: 0 (0.00 Byte)\n",
            "_________________________________________________________________\n"
          ]
        }
      ]
    },
    {
      "cell_type": "code",
      "source": [
        "model.compile(optimizer='adam',loss='mse')"
      ],
      "metadata": {
        "id": "6iTDV58BoVbJ"
      },
      "execution_count": null,
      "outputs": []
    },
    {
      "cell_type": "code",
      "source": [
        "epochs=5\n",
        "batch_size=128\n",
        "\n",
        "history=model.fit(X_train_noisy,X_train,\n",
        "                       batch_size=batch_size,\n",
        "                       epochs=epochs,\n",
        "                       validation_data=(X_test_noisy,X_test))"
      ],
      "metadata": {
        "colab": {
          "base_uri": "https://localhost:8080/"
        },
        "id": "8QxCXaOooi5p",
        "outputId": "bbbba3f2-144d-4a74-a8ad-c538f044c1ae"
      },
      "execution_count": null,
      "outputs": [
        {
          "output_type": "stream",
          "name": "stdout",
          "text": [
            "Epoch 1/5\n",
            "469/469 [==============================] - 15s 30ms/step - loss: 0.0326 - val_loss: 0.0157\n",
            "Epoch 2/5\n",
            "469/469 [==============================] - 13s 29ms/step - loss: 0.0135 - val_loss: 0.0117\n",
            "Epoch 3/5\n",
            "469/469 [==============================] - 14s 29ms/step - loss: 0.0107 - val_loss: 0.0098\n",
            "Epoch 4/5\n",
            "469/469 [==============================] - 14s 29ms/step - loss: 0.0093 - val_loss: 0.0086\n",
            "Epoch 5/5\n",
            "469/469 [==============================] - 14s 29ms/step - loss: 0.0084 - val_loss: 0.0080\n"
          ]
        }
      ]
    },
    {
      "cell_type": "code",
      "source": [
        "# predict on test images\n",
        "decoded_imgs=model.predict(X_test)"
      ],
      "metadata": {
        "colab": {
          "base_uri": "https://localhost:8080/"
        },
        "id": "Ow67V1Sdo5rq",
        "outputId": "5eac9b92-3cfe-4105-b281-957573e79c68"
      },
      "execution_count": null,
      "outputs": [
        {
          "output_type": "stream",
          "name": "stdout",
          "text": [
            "313/313 [==============================] - 1s 4ms/step\n"
          ]
        }
      ]
    },
    {
      "cell_type": "code",
      "source": [
        "n = 10\n",
        "plt.figure(figsize=(20, 6))\n",
        "for i in range(n):\n",
        "    # display original\n",
        "    ax = plt.subplot(3, n, i+1)\n",
        "    plt.imshow(X_test_noisy[i].reshape(28, 28))\n",
        "    plt.gray()\n",
        "    ax.get_xaxis().set_visible(False)\n",
        "    ax.get_yaxis().set_visible(False)\n",
        "\n",
        "\n",
        "    # display reconstruction\n",
        "    ax = plt.subplot(3, n, i+n+1)\n",
        "    plt.imshow(decoded_imgs[i].reshape(28, 28))\n",
        "    plt.gray()\n",
        "    ax.get_xaxis().set_visible(False)\n",
        "    ax.get_yaxis().set_visible(False)\n",
        "\n",
        "plt.show()"
      ],
      "metadata": {
        "colab": {
          "base_uri": "https://localhost:8080/",
          "height": 238
        },
        "id": "jq7Ut15Oo_nL",
        "outputId": "018d424c-fbd5-4ce6-8d7d-fcbfa65ec0fd"
      },
      "execution_count": null,
      "outputs": [
        {
          "output_type": "display_data",
          "data": {
            "text/plain": [
              "<Figure size 2000x600 with 20 Axes>"
            ],
            "image/png": "[encoded data removed]"
          },
          "metadata": {}
        }
      ]
    },
    {
      "cell_type": "code",
      "source": [
        "# download the model\n",
        "# pass any noisy input\n",
        "# model.predict('image')"
      ],
      "metadata": {
        "id": "CR9pUIcvqdLd"
      },
      "execution_count": null,
      "outputs": []
    },
    {
      "cell_type": "markdown",
      "source": [
        "Develop model any noisy image ---\n",
        "\n",
        "model will give clear image"
      ],
      "metadata": {
        "id": "qGUjgie3p2et"
      }
    }
  ]
}